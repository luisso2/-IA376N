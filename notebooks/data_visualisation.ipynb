{
 "cells": [
  {
   "cell_type": "code",
   "execution_count": 2,
   "id": "f4470347",
   "metadata": {},
   "outputs": [],
   "source": [
    "import pandas as pd\n",
    "import numpy as np\n",
    "import os\n",
    "from IPython.display import display"
   ]
  },
  {
   "cell_type": "code",
   "execution_count": null,
   "id": "c12cd501",
   "metadata": {},
   "outputs": [],
   "source": [
    "# Digite o caminho manualmente para garantir que está limpo\n",
    "caminho_dados = 'data/raw/Vento/v2019.csv'\n",
    "\n",
    "# Tente carregar o arquivo novamente\n",
    "df = pd.read_csv(caminho_dados)\n",
    "\n",
    "print(\"Arquivo carregado com sucesso!\")\n",
    "df.head()"
   ]
  },
  {
   "cell_type": "code",
   "execution_count": 1,
   "id": "e2a3353c",
   "metadata": {},
   "outputs": [
    {
     "name": "stdout",
     "output_type": "stream",
     "text": [
      "Diretório de trabalho atual: c:\\Users\\lfern\\IA376N\\notebooks\n",
      "\n",
      "Conteúdo encontrado em 'data/raw':\n",
      "ERRO: A pasta 'data/raw' não foi encontrada a partir do diretório atual.\n"
     ]
    }
   ],
   "source": [
    "import os\n",
    "\n",
    "# 1. Verifica de onde o notebook está rodando\n",
    "print(f\"Diretório de trabalho atual: {os.getcwd()}\\n\")\n",
    "\n",
    "# 2. Tenta listar o que há dentro da pasta data/raw\n",
    "try:\n",
    "    print(\"Conteúdo encontrado em 'data/raw':\")\n",
    "    print(os.listdir('data/raw'))\n",
    "except FileNotFoundError:\n",
    "    print(\"ERRO: A pasta 'data/raw' não foi encontrada a partir do diretório atual.\")"
   ]
  }
 ],
 "metadata": {
  "kernelspec": {
   "display_name": "base",
   "language": "python",
   "name": "python3"
  },
  "language_info": {
   "codemirror_mode": {
    "name": "ipython",
    "version": 3
   },
   "file_extension": ".py",
   "mimetype": "text/x-python",
   "name": "python",
   "nbconvert_exporter": "python",
   "pygments_lexer": "ipython3",
   "version": "3.11.7"
  }
 },
 "nbformat": 4,
 "nbformat_minor": 5
}
